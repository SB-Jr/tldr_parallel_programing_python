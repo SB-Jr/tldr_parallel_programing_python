{
 "cells": [
  {
   "cell_type": "markdown",
   "metadata": {},
   "source": [
    "# Parallelize by each row/column"
   ]
  },
  {
   "cell_type": "code",
   "execution_count": 2,
   "metadata": {
    "execution": {
     "iopub.execute_input": "2020-06-07T13:30:23.701313Z",
     "iopub.status.busy": "2020-06-07T13:30:23.701044Z",
     "iopub.status.idle": "2020-06-07T13:30:23.705116Z",
     "shell.execute_reply": "2020-06-07T13:30:23.704112Z",
     "shell.execute_reply.started": "2020-06-07T13:30:23.701286Z"
    }
   },
   "outputs": [],
   "source": [
    "import pandas as pd\n",
    "import numpy as np\n",
    "import multiprocessing as mp"
   ]
  },
  {
   "cell_type": "code",
   "execution_count": 13,
   "metadata": {
    "execution": {
     "iopub.execute_input": "2020-06-07T13:40:25.588868Z",
     "iopub.status.busy": "2020-06-07T13:40:25.588180Z",
     "iopub.status.idle": "2020-06-07T13:40:25.595047Z",
     "shell.execute_reply": "2020-06-07T13:40:25.593875Z",
     "shell.execute_reply.started": "2020-06-07T13:40:25.588827Z"
    }
   },
   "outputs": [],
   "source": [
    "df = pd.DataFrame(np.random.randint(3,10, size=[20,20]))"
   ]
  },
  {
   "cell_type": "code",
   "execution_count": 14,
   "metadata": {
    "execution": {
     "iopub.execute_input": "2020-06-07T13:40:29.142683Z",
     "iopub.status.busy": "2020-06-07T13:40:29.142409Z",
     "iopub.status.idle": "2020-06-07T13:40:29.187315Z",
     "shell.execute_reply": "2020-06-07T13:40:29.186383Z",
     "shell.execute_reply.started": "2020-06-07T13:40:29.142656Z"
    }
   },
   "outputs": [
    {
     "data": {
      "text/html": [
       "<div>\n",
       "<style scoped>\n",
       "    .dataframe tbody tr th:only-of-type {\n",
       "        vertical-align: middle;\n",
       "    }\n",
       "\n",
       "    .dataframe tbody tr th {\n",
       "        vertical-align: top;\n",
       "    }\n",
       "\n",
       "    .dataframe thead th {\n",
       "        text-align: right;\n",
       "    }\n",
       "</style>\n",
       "<table border=\"1\" class=\"dataframe\">\n",
       "  <thead>\n",
       "    <tr style=\"text-align: right;\">\n",
       "      <th></th>\n",
       "      <th>0</th>\n",
       "      <th>1</th>\n",
       "      <th>2</th>\n",
       "      <th>3</th>\n",
       "      <th>4</th>\n",
       "      <th>5</th>\n",
       "      <th>6</th>\n",
       "      <th>7</th>\n",
       "      <th>8</th>\n",
       "      <th>9</th>\n",
       "      <th>10</th>\n",
       "      <th>11</th>\n",
       "      <th>12</th>\n",
       "      <th>13</th>\n",
       "      <th>14</th>\n",
       "      <th>15</th>\n",
       "      <th>16</th>\n",
       "      <th>17</th>\n",
       "      <th>18</th>\n",
       "      <th>19</th>\n",
       "    </tr>\n",
       "  </thead>\n",
       "  <tbody>\n",
       "    <tr>\n",
       "      <th>0</th>\n",
       "      <td>5</td>\n",
       "      <td>3</td>\n",
       "      <td>7</td>\n",
       "      <td>5</td>\n",
       "      <td>5</td>\n",
       "      <td>6</td>\n",
       "      <td>4</td>\n",
       "      <td>7</td>\n",
       "      <td>9</td>\n",
       "      <td>9</td>\n",
       "      <td>8</td>\n",
       "      <td>5</td>\n",
       "      <td>9</td>\n",
       "      <td>5</td>\n",
       "      <td>8</td>\n",
       "      <td>3</td>\n",
       "      <td>3</td>\n",
       "      <td>8</td>\n",
       "      <td>5</td>\n",
       "      <td>8</td>\n",
       "    </tr>\n",
       "    <tr>\n",
       "      <th>1</th>\n",
       "      <td>9</td>\n",
       "      <td>7</td>\n",
       "      <td>7</td>\n",
       "      <td>3</td>\n",
       "      <td>9</td>\n",
       "      <td>6</td>\n",
       "      <td>6</td>\n",
       "      <td>3</td>\n",
       "      <td>4</td>\n",
       "      <td>6</td>\n",
       "      <td>7</td>\n",
       "      <td>5</td>\n",
       "      <td>4</td>\n",
       "      <td>5</td>\n",
       "      <td>9</td>\n",
       "      <td>8</td>\n",
       "      <td>5</td>\n",
       "      <td>8</td>\n",
       "      <td>8</td>\n",
       "      <td>5</td>\n",
       "    </tr>\n",
       "    <tr>\n",
       "      <th>2</th>\n",
       "      <td>4</td>\n",
       "      <td>9</td>\n",
       "      <td>9</td>\n",
       "      <td>7</td>\n",
       "      <td>7</td>\n",
       "      <td>7</td>\n",
       "      <td>9</td>\n",
       "      <td>4</td>\n",
       "      <td>6</td>\n",
       "      <td>7</td>\n",
       "      <td>8</td>\n",
       "      <td>9</td>\n",
       "      <td>3</td>\n",
       "      <td>3</td>\n",
       "      <td>3</td>\n",
       "      <td>3</td>\n",
       "      <td>4</td>\n",
       "      <td>7</td>\n",
       "      <td>4</td>\n",
       "      <td>9</td>\n",
       "    </tr>\n",
       "    <tr>\n",
       "      <th>3</th>\n",
       "      <td>3</td>\n",
       "      <td>3</td>\n",
       "      <td>6</td>\n",
       "      <td>5</td>\n",
       "      <td>9</td>\n",
       "      <td>4</td>\n",
       "      <td>7</td>\n",
       "      <td>4</td>\n",
       "      <td>7</td>\n",
       "      <td>7</td>\n",
       "      <td>8</td>\n",
       "      <td>7</td>\n",
       "      <td>4</td>\n",
       "      <td>3</td>\n",
       "      <td>7</td>\n",
       "      <td>4</td>\n",
       "      <td>9</td>\n",
       "      <td>5</td>\n",
       "      <td>7</td>\n",
       "      <td>8</td>\n",
       "    </tr>\n",
       "    <tr>\n",
       "      <th>4</th>\n",
       "      <td>7</td>\n",
       "      <td>9</td>\n",
       "      <td>3</td>\n",
       "      <td>5</td>\n",
       "      <td>3</td>\n",
       "      <td>4</td>\n",
       "      <td>8</td>\n",
       "      <td>7</td>\n",
       "      <td>5</td>\n",
       "      <td>3</td>\n",
       "      <td>8</td>\n",
       "      <td>4</td>\n",
       "      <td>4</td>\n",
       "      <td>3</td>\n",
       "      <td>3</td>\n",
       "      <td>3</td>\n",
       "      <td>7</td>\n",
       "      <td>4</td>\n",
       "      <td>9</td>\n",
       "      <td>3</td>\n",
       "    </tr>\n",
       "  </tbody>\n",
       "</table>\n",
       "</div>"
      ],
      "text/plain": [
       "   0  1  2  3  4  5  6  7  8  9  10  11  12  13  14  15  16  17  18  19\n",
       "0  5  3  7  5  5  6  4  7  9  9   8   5   9   5   8   3   3   8   5   8\n",
       "1  9  7  7  3  9  6  6  3  4  6   7   5   4   5   9   8   5   8   8   5\n",
       "2  4  9  9  7  7  7  9  4  6  7   8   9   3   3   3   3   4   7   4   9\n",
       "3  3  3  6  5  9  4  7  4  7  7   8   7   4   3   7   4   9   5   7   8\n",
       "4  7  9  3  5  3  4  8  7  5  3   8   4   4   3   3   3   7   4   9   3"
      ]
     },
     "execution_count": 14,
     "metadata": {},
     "output_type": "execute_result"
    }
   ],
   "source": [
    "df.head()"
   ]
  },
  {
   "cell_type": "markdown",
   "metadata": {},
   "source": [
    "## Applying a function row wise (limited # ofprocesses)"
   ]
  },
  {
   "cell_type": "code",
   "execution_count": 6,
   "metadata": {
    "execution": {
     "iopub.execute_input": "2020-06-07T13:32:26.054124Z",
     "iopub.status.busy": "2020-06-07T13:32:26.053890Z",
     "iopub.status.idle": "2020-06-07T13:32:26.058804Z",
     "shell.execute_reply": "2020-06-07T13:32:26.057803Z",
     "shell.execute_reply.started": "2020-06-07T13:32:26.054098Z"
    }
   },
   "outputs": [],
   "source": [
    "def hypotenuse(row):\n",
    "    return round(row[1]**2 + row[2]**2, 2)**0.5"
   ]
  },
  {
   "cell_type": "code",
   "execution_count": 15,
   "metadata": {
    "execution": {
     "iopub.execute_input": "2020-06-07T13:40:52.099079Z",
     "iopub.status.busy": "2020-06-07T13:40:52.098812Z",
     "iopub.status.idle": "2020-06-07T13:40:52.323181Z",
     "shell.execute_reply": "2020-06-07T13:40:52.322270Z",
     "shell.execute_reply.started": "2020-06-07T13:40:52.099048Z"
    }
   },
   "outputs": [],
   "source": [
    "#only using 4 processes\n",
    "with mp.Pool(4) as pool:\n",
    "    result = pool.imap(hypotenuse, df.itertuples(index=False, name=None), chunksize=5)\n",
    "    output = [round(x,2) for x in result]"
   ]
  },
  {
   "cell_type": "code",
   "execution_count": 16,
   "metadata": {
    "execution": {
     "iopub.execute_input": "2020-06-07T13:41:01.164395Z",
     "iopub.status.busy": "2020-06-07T13:41:01.164165Z",
     "iopub.status.idle": "2020-06-07T13:41:01.169068Z",
     "shell.execute_reply": "2020-06-07T13:41:01.168151Z",
     "shell.execute_reply.started": "2020-06-07T13:41:01.164364Z"
    }
   },
   "outputs": [
    {
     "name": "stdout",
     "output_type": "stream",
     "text": [
      "[7.62, 9.9, 12.73, 6.71, 9.49, 12.04, 5.83, 6.4, 8.54, 10.63, 7.21, 8.94, 5.83, 9.43, 9.85, 9.85, 9.85, 12.04, 11.4, 8.06]\n"
     ]
    }
   ],
   "source": [
    "print(output)"
   ]
  },
  {
   "cell_type": "markdown",
   "metadata": {},
   "source": [
    "## Applying a function column wise"
   ]
  },
  {
   "cell_type": "code",
   "execution_count": 17,
   "metadata": {
    "execution": {
     "iopub.execute_input": "2020-06-07T13:49:00.891137Z",
     "iopub.status.busy": "2020-06-07T13:49:00.890769Z",
     "iopub.status.idle": "2020-06-07T13:49:00.895620Z",
     "shell.execute_reply": "2020-06-07T13:49:00.894612Z",
     "shell.execute_reply.started": "2020-06-07T13:49:00.891097Z"
    }
   },
   "outputs": [],
   "source": [
    "def sum_of_squares(col):\n",
    "    return sum([i**2 for i in col[1]])"
   ]
  },
  {
   "cell_type": "code",
   "execution_count": 20,
   "metadata": {
    "execution": {
     "iopub.execute_input": "2020-06-07T13:50:17.950798Z",
     "iopub.status.busy": "2020-06-07T13:50:17.950523Z",
     "iopub.status.idle": "2020-06-07T13:50:18.181169Z",
     "shell.execute_reply": "2020-06-07T13:50:18.180312Z",
     "shell.execute_reply.started": "2020-06-07T13:50:17.950744Z"
    }
   },
   "outputs": [],
   "source": [
    "with mp.Pool(4) as pool:\n",
    "    result=pool.imap(sum_of_squares, df.iteritems(), chunksize=5)\n",
    "    output=[x for x in result]"
   ]
  },
  {
   "cell_type": "code",
   "execution_count": 21,
   "metadata": {
    "execution": {
     "iopub.execute_input": "2020-06-07T13:50:23.793398Z",
     "iopub.status.busy": "2020-06-07T13:50:23.793134Z",
     "iopub.status.idle": "2020-06-07T13:50:23.797937Z",
     "shell.execute_reply": "2020-06-07T13:50:23.797119Z",
     "shell.execute_reply.started": "2020-06-07T13:50:23.793363Z"
    }
   },
   "outputs": [
    {
     "name": "stdout",
     "output_type": "stream",
     "text": [
      "[777, 1056, 689, 831, 837, 730, 695, 651, 795, 688, 965, 718, 697, 719, 827, 652, 754, 739, 960, 860]\n"
     ]
    }
   ],
   "source": [
    "print(output)"
   ]
  }
 ],
 "metadata": {
  "kernelspec": {
   "display_name": "Python [conda env:tf-gpu] *",
   "language": "python",
   "name": "conda-env-tf-gpu-py"
  },
  "language_info": {
   "codemirror_mode": {
    "name": "ipython",
    "version": 3
   },
   "file_extension": ".py",
   "mimetype": "text/x-python",
   "name": "python",
   "nbconvert_exporter": "python",
   "pygments_lexer": "ipython3",
   "version": "3.7.7"
  }
 },
 "nbformat": 4,
 "nbformat_minor": 4
}
