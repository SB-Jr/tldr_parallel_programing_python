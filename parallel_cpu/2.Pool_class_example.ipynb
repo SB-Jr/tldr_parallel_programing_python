{
 "cells": [
  {
   "cell_type": "markdown",
   "metadata": {},
   "source": [
    "# Pool Class Example"
   ]
  },
  {
   "cell_type": "markdown",
   "metadata": {},
   "source": [
    "## Count #s in given range in a matrix"
   ]
  },
  {
   "cell_type": "code",
   "execution_count": 1,
   "metadata": {
    "execution": {
     "iopub.execute_input": "2020-06-07T12:39:51.016117Z",
     "iopub.status.busy": "2020-06-07T12:39:51.015825Z",
     "iopub.status.idle": "2020-06-07T12:39:51.259998Z",
     "shell.execute_reply": "2020-06-07T12:39:51.259177Z",
     "shell.execute_reply.started": "2020-06-07T12:39:51.016061Z"
    }
   },
   "outputs": [],
   "source": [
    "import numpy as np\n",
    "from time import time "
   ]
  },
  {
   "cell_type": "code",
   "execution_count": 22,
   "metadata": {
    "execution": {
     "iopub.execute_input": "2020-06-07T12:56:36.826518Z",
     "iopub.status.busy": "2020-06-07T12:56:36.826224Z",
     "iopub.status.idle": "2020-06-07T12:56:36.885132Z",
     "shell.execute_reply": "2020-06-07T12:56:36.883605Z",
     "shell.execute_reply.started": "2020-06-07T12:56:36.826463Z"
    }
   },
   "outputs": [
    {
     "name": "stdout",
     "output_type": "stream",
     "text": [
      "(8, 200000)\n",
      "8\n",
      "200000\n"
     ]
    }
   ],
   "source": [
    "#Prepare data\n",
    "np.random.RandomState(100)\n",
    "arr = np.random.randint(0,10, size=[8, 200000])\n",
    "data = arr.tolist()\n",
    "print(arr.shape)\n",
    "print(len(data))\n",
    "print(len(data[0]))"
   ]
  },
  {
   "cell_type": "markdown",
   "metadata": {},
   "source": [
    "### Without parallelization"
   ]
  },
  {
   "cell_type": "code",
   "execution_count": 23,
   "metadata": {
    "execution": {
     "iopub.execute_input": "2020-06-07T12:56:39.129582Z",
     "iopub.status.busy": "2020-06-07T12:56:39.129303Z",
     "iopub.status.idle": "2020-06-07T12:56:39.293940Z",
     "shell.execute_reply": "2020-06-07T12:56:39.293075Z",
     "shell.execute_reply.started": "2020-06-07T12:56:39.129552Z"
    }
   },
   "outputs": [
    {
     "name": "stdout",
     "output_type": "stream",
     "text": [
      "[100120, 100217, 99623, 100092, 99541, 100275, 100033, 100009]\n"
     ]
    }
   ],
   "source": [
    "def within_range(row, min_, max_):\n",
    "    count=0\n",
    "    for n in row:\n",
    "        if min_<=n<=max_:\n",
    "            count=count+1\n",
    "    return count\n",
    "result=[]\n",
    "for row in data:\n",
    "    result.append(within_range(row, 4, 8))\n",
    "print(result)"
   ]
  },
  {
   "cell_type": "markdown",
   "metadata": {},
   "source": [
    "### Parallel approach Pool.apply()"
   ]
  },
  {
   "cell_type": "code",
   "execution_count": 24,
   "metadata": {
    "execution": {
     "iopub.execute_input": "2020-06-07T12:58:05.610030Z",
     "iopub.status.busy": "2020-06-07T12:58:05.609776Z",
     "iopub.status.idle": "2020-06-07T12:58:05.656224Z",
     "shell.execute_reply": "2020-06-07T12:58:05.654885Z",
     "shell.execute_reply.started": "2020-06-07T12:58:05.610001Z"
    }
   },
   "outputs": [],
   "source": [
    "import multiprocessing as mp"
   ]
  },
  {
   "cell_type": "code",
   "execution_count": 25,
   "metadata": {
    "execution": {
     "iopub.execute_input": "2020-06-07T12:58:19.497630Z",
     "iopub.status.busy": "2020-06-07T12:58:19.497393Z",
     "iopub.status.idle": "2020-06-07T12:58:19.615576Z",
     "shell.execute_reply": "2020-06-07T12:58:19.613697Z",
     "shell.execute_reply.started": "2020-06-07T12:58:19.497603Z"
    }
   },
   "outputs": [],
   "source": [
    "pool = mp.Pool(mp.cpu_count())"
   ]
  },
  {
   "cell_type": "code",
   "execution_count": 26,
   "metadata": {
    "execution": {
     "iopub.execute_input": "2020-06-07T12:59:06.804469Z",
     "iopub.status.busy": "2020-06-07T12:59:06.804071Z",
     "iopub.status.idle": "2020-06-07T12:59:07.115063Z",
     "shell.execute_reply": "2020-06-07T12:59:07.114197Z",
     "shell.execute_reply.started": "2020-06-07T12:59:06.804412Z"
    }
   },
   "outputs": [],
   "source": [
    "results = [pool.apply(within_range, args=(row, 4,8)) for row in data]"
   ]
  },
  {
   "cell_type": "code",
   "execution_count": 28,
   "metadata": {
    "execution": {
     "iopub.execute_input": "2020-06-07T12:59:26.424045Z",
     "iopub.status.busy": "2020-06-07T12:59:26.423782Z",
     "iopub.status.idle": "2020-06-07T12:59:26.427759Z",
     "shell.execute_reply": "2020-06-07T12:59:26.426827Z",
     "shell.execute_reply.started": "2020-06-07T12:59:26.424015Z"
    }
   },
   "outputs": [],
   "source": [
    "pool.close()"
   ]
  },
  {
   "cell_type": "code",
   "execution_count": 29,
   "metadata": {
    "execution": {
     "iopub.execute_input": "2020-06-07T12:59:31.515920Z",
     "iopub.status.busy": "2020-06-07T12:59:31.515603Z",
     "iopub.status.idle": "2020-06-07T12:59:31.520111Z",
     "shell.execute_reply": "2020-06-07T12:59:31.519135Z",
     "shell.execute_reply.started": "2020-06-07T12:59:31.515890Z"
    }
   },
   "outputs": [
    {
     "name": "stdout",
     "output_type": "stream",
     "text": [
      "[100120, 100217, 99623, 100092, 99541, 100275, 100033, 100009]\n"
     ]
    }
   ],
   "source": [
    "print(results)"
   ]
  },
  {
   "cell_type": "markdown",
   "metadata": {},
   "source": [
    "## Parallel approach Pool.map()"
   ]
  },
  {
   "cell_type": "markdown",
   "metadata": {},
   "source": [
    "The main difference between `.map()` and `.apply()` is that map accepts only 1 argument that is the itterable object on which we have to run the function whereas apply accepts multiple arguments which are passed to the function which we are parellelizing"
   ]
  },
  {
   "cell_type": "markdown",
   "metadata": {},
   "source": [
    "### Async Parallel Processing using apply_async()"
   ]
  },
  {
   "cell_type": "markdown",
   "metadata": {},
   "source": [
    "apply_async() is very similar to apply() except that you need to provide a callback function that tells how the computed results should be stored."
   ]
  },
  {
   "cell_type": "markdown",
   "metadata": {},
   "source": [
    "However, a caveat with apply_async() is, the order of numbers in the result gets jumbled up indicating the processes did not complete in the order it was started."
   ]
  },
  {
   "cell_type": "markdown",
   "metadata": {},
   "source": [
    "To solve this we can have an itteration identifier to identify the row no and then put the answer in the specific position"
   ]
  },
  {
   "cell_type": "code",
   "execution_count": 88,
   "metadata": {
    "execution": {
     "iopub.execute_input": "2020-06-07T13:15:12.858708Z",
     "iopub.status.busy": "2020-06-07T13:15:12.858356Z",
     "iopub.status.idle": "2020-06-07T13:15:12.863298Z",
     "shell.execute_reply": "2020-06-07T13:15:12.862606Z",
     "shell.execute_reply.started": "2020-06-07T13:15:12.858678Z"
    }
   },
   "outputs": [],
   "source": [
    "def within_range2(row, row_i, min_, max_):\n",
    "    count=0\n",
    "    for n in row:\n",
    "        if min_<=n<=max_:\n",
    "            count=count+1\n",
    "    print(row_id)\n",
    "    return (row_id, count)"
   ]
  },
  {
   "cell_type": "code",
   "execution_count": 89,
   "metadata": {
    "execution": {
     "iopub.execute_input": "2020-06-07T13:15:13.450351Z",
     "iopub.status.busy": "2020-06-07T13:15:13.450031Z",
     "iopub.status.idle": "2020-06-07T13:15:13.454112Z",
     "shell.execute_reply": "2020-06-07T13:15:13.453207Z",
     "shell.execute_reply.started": "2020-06-07T13:15:13.450309Z"
    }
   },
   "outputs": [],
   "source": [
    "async_result=[]"
   ]
  },
  {
   "cell_type": "code",
   "execution_count": 90,
   "metadata": {
    "execution": {
     "iopub.execute_input": "2020-06-07T13:15:14.024079Z",
     "iopub.status.busy": "2020-06-07T13:15:14.023763Z",
     "iopub.status.idle": "2020-06-07T13:15:14.028340Z",
     "shell.execute_reply": "2020-06-07T13:15:14.027462Z",
     "shell.execute_reply.started": "2020-06-07T13:15:14.024042Z"
    }
   },
   "outputs": [],
   "source": [
    "def collect_result(result):\n",
    "    global async_result\n",
    "    async_result.append(result)\n",
    "    print(async_result)\n",
    "    print(result)"
   ]
  },
  {
   "cell_type": "code",
   "execution_count": 91,
   "metadata": {
    "execution": {
     "iopub.execute_input": "2020-06-07T13:15:14.541937Z",
     "iopub.status.busy": "2020-06-07T13:15:14.541698Z",
     "iopub.status.idle": "2020-06-07T13:15:14.595854Z",
     "shell.execute_reply": "2020-06-07T13:15:14.594187Z",
     "shell.execute_reply.started": "2020-06-07T13:15:14.541908Z"
    }
   },
   "outputs": [],
   "source": [
    "pool=mp.Pool(mp.cpu_count())"
   ]
  },
  {
   "cell_type": "code",
   "execution_count": 92,
   "metadata": {
    "execution": {
     "iopub.execute_input": "2020-06-07T13:15:15.173299Z",
     "iopub.status.busy": "2020-06-07T13:15:15.173025Z",
     "iopub.status.idle": "2020-06-07T13:15:15.188641Z",
     "shell.execute_reply": "2020-06-07T13:15:15.187357Z",
     "shell.execute_reply.started": "2020-06-07T13:15:15.173265Z"
    }
   },
   "outputs": [],
   "source": [
    "for i, row in enumerate(data):\n",
    "    pool.apply_async(within_range2, args=(row, i, 4, 8), callback=collect_result)"
   ]
  },
  {
   "cell_type": "code",
   "execution_count": 93,
   "metadata": {
    "execution": {
     "iopub.execute_input": "2020-06-07T13:15:33.387265Z",
     "iopub.status.busy": "2020-06-07T13:15:33.386991Z",
     "iopub.status.idle": "2020-06-07T13:15:33.391608Z",
     "shell.execute_reply": "2020-06-07T13:15:33.390642Z",
     "shell.execute_reply.started": "2020-06-07T13:15:33.387233Z"
    }
   },
   "outputs": [],
   "source": [
    "pool.close()"
   ]
  },
  {
   "cell_type": "code",
   "execution_count": 94,
   "metadata": {
    "execution": {
     "iopub.execute_input": "2020-06-07T13:15:34.132539Z",
     "iopub.status.busy": "2020-06-07T13:15:34.132301Z",
     "iopub.status.idle": "2020-06-07T13:15:34.136692Z",
     "shell.execute_reply": "2020-06-07T13:15:34.135664Z",
     "shell.execute_reply.started": "2020-06-07T13:15:34.132510Z"
    }
   },
   "outputs": [],
   "source": [
    "pool.join()"
   ]
  },
  {
   "cell_type": "code",
   "execution_count": 95,
   "metadata": {
    "execution": {
     "iopub.execute_input": "2020-06-07T13:15:34.663363Z",
     "iopub.status.busy": "2020-06-07T13:15:34.662995Z",
     "iopub.status.idle": "2020-06-07T13:15:34.668658Z",
     "shell.execute_reply": "2020-06-07T13:15:34.667582Z",
     "shell.execute_reply.started": "2020-06-07T13:15:34.663315Z"
    }
   },
   "outputs": [
    {
     "name": "stdout",
     "output_type": "stream",
     "text": [
      "[]\n"
     ]
    }
   ],
   "source": [
    "print(async_result)"
   ]
  },
  {
   "cell_type": "code",
   "execution_count": null,
   "metadata": {},
   "outputs": [],
   "source": []
  }
 ],
 "metadata": {
  "kernelspec": {
   "display_name": "Python [conda env:tf-gpu] *",
   "language": "python",
   "name": "conda-env-tf-gpu-py"
  },
  "language_info": {
   "codemirror_mode": {
    "name": "ipython",
    "version": 3
   },
   "file_extension": ".py",
   "mimetype": "text/x-python",
   "name": "python",
   "nbconvert_exporter": "python",
   "pygments_lexer": "ipython3",
   "version": "3.7.7"
  }
 },
 "nbformat": 4,
 "nbformat_minor": 4
}
